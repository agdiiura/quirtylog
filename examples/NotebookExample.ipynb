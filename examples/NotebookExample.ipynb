{
 "cells": [
  {
   "cell_type": "code",
   "execution_count": 2,
   "id": "b826cc79-2016-4910-bb26-09ed0a40a32c",
   "metadata": {},
   "outputs": [
    {
     "name": "stdout",
     "output_type": "stream",
     "text": [
      "{'version': 1, 'disable_existing_loggers': False, 'formatters': {'simple': {'format': '%(asctime)s.%(msecs)03d %(levelname)s %(module)s - %(funcName)s: %(message)s', 'datefmt': '%Y-%m-%d'}}, 'handlers': {'console': {'class': 'logging.StreamHandler', 'level': 'INFO', 'formatter': 'simple', 'stream': 'ext://sys.stdout'}, 'file': {'class': 'logging.FileHandler', 'level': 'INFO', 'filename': 'logs/my-log.log'}}, 'loggers': {'simpleExample': {'level': 'DEBUG', 'handlers': ['console'], 'propagate': False}}, 'root': {'level': 'DEBUG', 'handlers': ['console', 'file']}}\n",
      "{'version': 1, 'disable_existing_loggers': False, 'formatters': {'simple': {'format': '%(asctime)s.%(msecs)03d %(levelname)s %(module)s - %(funcName)s: %(message)s', 'datefmt': '%Y-%m-%d'}}, 'handlers': {'console': {'class': 'logging.StreamHandler', 'level': 'INFO', 'formatter': 'simple', 'stream': 'ext://sys.stdout'}, 'file': {'class': 'logging.FileHandler', 'level': 'INFO', 'filename': 'logs/my-log.log'}}, 'loggers': {'simpleExample': {'level': 'DEBUG', 'handlers': ['console'], 'propagate': False}}, 'root': {'level': 'DEBUG', 'handlers': ['console', 'file']}}\n"
     ]
    },
    {
     "name": "stderr",
     "output_type": "stream",
     "text": [
      "2024-07-09 14:26:14 CDPLT33771SM my-log[5900] INFO test\n"
     ]
    }
   ],
   "source": [
    "import quirtylog\n",
    "\n",
    "logger = quirtylog.create_logger(\n",
    "    log_path='logs/', \n",
    "    name='my-log',\n",
    "    config_file='config-example.yaml'\n",
    ")\n",
    "logger.info('test')"
   ]
  },
  {
   "cell_type": "code",
   "execution_count": null,
   "id": "a61d44a4-ee8f-4d02-b5f0-41e1f568fac9",
   "metadata": {},
   "outputs": [],
   "source": []
  }
 ],
 "metadata": {
  "kernelspec": {
   "display_name": "Python 3 (ipykernel)",
   "language": "python",
   "name": "python3"
  },
  "language_info": {
   "codemirror_mode": {
    "name": "ipython",
    "version": 3
   },
   "file_extension": ".py",
   "mimetype": "text/x-python",
   "name": "python",
   "nbconvert_exporter": "python",
   "pygments_lexer": "ipython3",
   "version": "3.11.8"
  }
 },
 "nbformat": 4,
 "nbformat_minor": 5
}
